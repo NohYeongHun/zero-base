{
 "cells": [
  {
   "cell_type": "markdown",
   "metadata": {},
   "source": [
    "## MultiThread"
   ]
  },
  {
   "cell_type": "markdown",
   "metadata": {},
   "source": [
    "### 예제(1) : 정상의 경우\n",
    "- 코드 블럭 자체가 하나의 프로세스\n",
    "- g_count : 전역 변수\n",
    "- 1을 1000번 더하는 thread 계산을 50번 연산한다."
   ]
  },
  {
   "cell_type": "code",
   "execution_count": 4,
   "metadata": {},
   "outputs": [
    {
     "name": "stdout",
     "output_type": "stream",
     "text": [
      "g_count = 50000\n"
     ]
    }
   ],
   "source": [
    "\n",
    "import threading, time, os\n",
    "\n",
    "# 전역 변수\n",
    "g_count = 0\n",
    "\n",
    "def thread_main():\n",
    "    # 전역 변수로 g_count를 사용하겠다.\n",
    "    global g_count\n",
    "\n",
    "    for i in range(1000):\n",
    "        g_count = g_count + 1\n",
    "\n",
    "threads = list()\n",
    "\n",
    "for i in range(50):\n",
    "\n",
    "    th = threading.Thread(target = thread_main)\n",
    "    threads.append(th)\n",
    "\n",
    "for th in threads:\n",
    "    th.start()\n",
    "\n",
    "for th in threads:\n",
    "    th.join() # 다른 thread가 끝날 때 까지 대기.\n",
    "\n",
    "print('g_count =', g_count)"
   ]
  },
  {
   "cell_type": "markdown",
   "metadata": {},
   "source": [
    "### 예제(2) 동기화 이슈\n",
    "- 1000000의 50번 연산인데 값이 일정하게 나오지 않고 계속 변동한다."
   ]
  },
  {
   "cell_type": "code",
   "execution_count": 9,
   "metadata": {},
   "outputs": [
    {
     "name": "stdout",
     "output_type": "stream",
     "text": [
      "g_count = 5000000\n"
     ]
    }
   ],
   "source": [
    "import threading, time, os\n",
    "\n",
    "# 전역 변수\n",
    "g_count = 0\n",
    "\n",
    "def thread_main():\n",
    "    # 전역 변수로 g_count를 사용하겠다.\n",
    "    global g_count\n",
    "\n",
    "    for i in range(100000):\n",
    "        g_count = g_count + 1\n",
    "\n",
    "threads = list()\n",
    "\n",
    "for i in range(50):\n",
    "\n",
    "    th = threading.Thread(target = thread_main)\n",
    "    threads.append(th)\n",
    "\n",
    "for th in threads:\n",
    "    th.start()\n",
    "\n",
    "for th in threads:\n",
    "    th.join() # 다른 thread가 끝날 때 까지 대기.\n",
    "\n",
    "print('g_count =', g_count)"
   ]
  },
  {
   "cell_type": "markdown",
   "metadata": {},
   "source": [
    "### 예제(3) Mutual exclusion\n",
    "- threading.Lock() : lock 개체 생성\n",
    "- lock.acquire() : 한 스레드 작업시 다른 스레드 작업 불가\n",
    "- lock.release() : 작업 종료 시 다른 thread가 해당 작업을 진행할 수 있게 함."
   ]
  },
  {
   "cell_type": "code",
   "execution_count": 11,
   "metadata": {},
   "outputs": [
    {
     "name": "stdout",
     "output_type": "stream",
     "text": [
      "g_count = 5000000\n"
     ]
    }
   ],
   "source": [
    "import threading\n",
    "\n",
    "# 전역 변수\n",
    "g_count = 0\n",
    "\n",
    "def thread_main():\n",
    "    # 전역 변수로 g_count를 사용하겠다.\n",
    "    global g_count\n",
    "    \n",
    "    lock.acquire() # 2 \n",
    "    # 작업 lock(한 스레드 작업시 다른 스레드 작업 불가)\n",
    "\n",
    "    for i in range(100000):\n",
    "        g_count = g_count + 1\n",
    "        \n",
    "    lock.release() # 3\n",
    "    # 작업 종료 시 다른 thread에게 넘김\n",
    "\n",
    "lock = threading.Lock() # 1\n",
    "threads = list()\n",
    "\n",
    "for i in range(50):\n",
    "\n",
    "    th = threading.Thread(target = thread_main)\n",
    "    threads.append(th)\n",
    "\n",
    "for th in threads:\n",
    "    th.start()\n",
    "\n",
    "for th in threads:\n",
    "    th.join() # 다른 thread가 끝날 때 까지 대기.\n",
    "\n",
    "print('g_count =', g_count)"
   ]
  },
  {
   "cell_type": "markdown",
   "metadata": {},
   "source": [
    "### 예제(4) Semaphore\n",
    "- threading.Semaphore(2) : 동시에 임계 영역을 실행 할 thread 개수 설정\n",
    "- lock.aquire(), lock.release()"
   ]
  },
  {
   "cell_type": "code",
   "execution_count": 10,
   "metadata": {},
   "outputs": [
    {
     "name": "stdout",
     "output_type": "stream",
     "text": [
      "g_count = 5000000\n"
     ]
    }
   ],
   "source": [
    "import threading\n",
    "\n",
    "# 전역 변수\n",
    "g_count = 0\n",
    "\n",
    "def thread_main():\n",
    "    # 전역 변수로 g_count를 사용하겠다.\n",
    "    global g_count\n",
    "    \n",
    "    lock.acquire() # 2 \n",
    "    # 작업 lock(한 스레드 작업시 다른 스레드 작업 불가)\n",
    "\n",
    "    for i in range(100000):\n",
    "        g_count = g_count + 1\n",
    "        \n",
    "    lock.release() # 3\n",
    "    # 작업 종료 시 다른 thread에게 넘김\n",
    "\n",
    "lock = threading.Semaphore(2) # 1\n",
    "threads = list()\n",
    "\n",
    "for i in range(50):\n",
    "\n",
    "    th = threading.Thread(target = thread_main)\n",
    "    threads.append(th)\n",
    "\n",
    "for th in threads:\n",
    "    th.start()\n",
    "\n",
    "for th in threads:\n",
    "    th.join() # 다른 thread가 끝날 때 까지 대기.\n",
    "\n",
    "print('g_count =', g_count)"
   ]
  },
  {
   "cell_type": "markdown",
   "metadata": {},
   "source": [
    "### 실습4: Python Thread가 효과가 있는 경우\n",
    "- 쓰레드가 CPU job만 있지 않은 경우"
   ]
  },
  {
   "cell_type": "markdown",
   "metadata": {},
   "source": [
    "### 오래 걸리는 예제\n",
    "- 파이썬은 Thread를 지원하지 않는다."
   ]
  },
  {
   "cell_type": "code",
   "execution_count": 3,
   "metadata": {},
   "outputs": [
    {
     "name": "stdout",
     "output_type": "stream",
     "text": [
      "g_count = 5000000\n",
      "5.899943828582764\n"
     ]
    }
   ],
   "source": [
    "import threading\n",
    "import time\n",
    "\n",
    "# 전역 변수\n",
    "g_count = 0\n",
    "\n",
    "def thread_main():\n",
    "    # 전역 변수로 g_count를 사용하겠다.\n",
    "    global g_count\n",
    "    \n",
    "    lock.acquire() # 2 \n",
    "    # 작업 lock(한 스레드 작업시 다른 스레드 작업 불가)\n",
    "\n",
    "    for i in range(50000):\n",
    "        g_count = g_count + 1\n",
    "        \n",
    "    lock.release() # 3\n",
    "    # 작업 종료 시 다른 thread에게 넘김\n",
    "\n",
    "    time.sleep(0.1)\n",
    "\n",
    "    lock.acquire()\n",
    "    for i in range(50000):\n",
    "        g_count = g_count + 1\n",
    "    lock.release()\n",
    "\n",
    "lock = threading.Lock() # 1\n",
    "\n",
    "start = time.time() # 시작 시간 저장\n",
    "\n",
    "for i in range(50):\n",
    "    thread_main()\n",
    "\n",
    "print('g_count =', g_count)\n",
    "print(time.time() - start)"
   ]
  },
  {
   "cell_type": "markdown",
   "metadata": {},
   "source": [
    "### 쓰레드 라이브러리사용"
   ]
  },
  {
   "cell_type": "code",
   "execution_count": 4,
   "metadata": {},
   "outputs": [
    {
     "name": "stdout",
     "output_type": "stream",
     "text": [
      "g_count = 5000000\n",
      "0.6399388313293457\n"
     ]
    }
   ],
   "source": [
    "import threading\n",
    "import time\n",
    "\n",
    "# 전역 변수\n",
    "g_count = 0\n",
    "\n",
    "def thread_main():\n",
    "    # 전역 변수로 g_count를 사용하겠다.\n",
    "    global g_count\n",
    "    \n",
    "    lock.acquire() # 2 \n",
    "    # 작업 lock(한 스레드 작업시 다른 스레드 작업 불가)\n",
    "\n",
    "    for i in range(50000):\n",
    "        g_count = g_count + 1\n",
    "        \n",
    "    lock.release() # 3\n",
    "    # 작업 종료 시 다른 thread에게 넘김\n",
    "\n",
    "    time.sleep(0.1)\n",
    "\n",
    "    lock.acquire()\n",
    "    for i in range(50000):\n",
    "        g_count = g_count + 1\n",
    "    lock.release()\n",
    "\n",
    "lock = threading.Lock() # 1\n",
    "threads = list()\n",
    "start = time.time() # 시작 시간 저장\n",
    "\n",
    "for i in range(50):\n",
    "    th = threading.Thread(target = thread_main)\n",
    "    threads.append(th)\n",
    "\n",
    "for th in threads:\n",
    "    th.start()\n",
    "\n",
    "for th in threads:\n",
    "    th.join() # 다른 thread가 끝날 때 까지 대기.\n",
    "\n",
    "\n",
    "print('g_count =', g_count)\n",
    "print(time.time() - start)"
   ]
  }
 ],
 "metadata": {
  "interpreter": {
   "hash": "2bd04dc09fab68ca3ef149792dfe3505936e6301cdd003bc123cc71dc1164e1a"
  },
  "kernelspec": {
   "display_name": "Python 3.7.7 64-bit",
   "language": "python",
   "name": "python3"
  },
  "language_info": {
   "codemirror_mode": {
    "name": "ipython",
    "version": 3
   },
   "file_extension": ".py",
   "mimetype": "text/x-python",
   "name": "python",
   "nbconvert_exporter": "python",
   "pygments_lexer": "ipython3",
   "version": "3.7.7"
  },
  "orig_nbformat": 4
 },
 "nbformat": 4,
 "nbformat_minor": 2
}
